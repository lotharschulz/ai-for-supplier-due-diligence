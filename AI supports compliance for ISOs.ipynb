{
 "cells": [
  {
   "cell_type": "code",
   "execution_count": 69,
   "id": "bb514fe3-60ac-451e-8ad6-bf779929c7be",
   "metadata": {},
   "outputs": [
    {
     "name": "stdout",
     "output_type": "stream",
     "text": [
      "Requirement already satisfied: pandas in ./.venv/lib/python3.12/site-packages (2.2.3)\n",
      "Requirement already satisfied: numpy>=1.26.0 in ./.venv/lib/python3.12/site-packages (from pandas) (2.2.1)\n",
      "Requirement already satisfied: python-dateutil>=2.8.2 in ./.venv/lib/python3.12/site-packages (from pandas) (2.9.0.post0)\n",
      "Requirement already satisfied: pytz>=2020.1 in ./.venv/lib/python3.12/site-packages (from pandas) (2024.2)\n",
      "Requirement already satisfied: tzdata>=2022.7 in ./.venv/lib/python3.12/site-packages (from pandas) (2024.2)\n",
      "Requirement already satisfied: six>=1.5 in ./.venv/lib/python3.12/site-packages (from python-dateutil>=2.8.2->pandas) (1.17.0)\n"
     ]
    }
   ],
   "source": [
    "!pip install pandas"
   ]
  },
  {
   "cell_type": "code",
   "execution_count": 70,
   "id": "1122ca7d-3c37-4de1-a6bc-c5aac7d3fd36",
   "metadata": {},
   "outputs": [
    {
     "name": "stdout",
     "output_type": "stream",
     "text": [
      "concatenated_questions:\n",
      "Is the supplier ISO 27001 certified?\n",
      "Is the supplier SOC2 certified?\n"
     ]
    }
   ],
   "source": [
    "import pandas as pd\n",
    "\n",
    "# Load the TSV file into a DataFrame\n",
    "file_path = './supplier_questions.tsv' # change to your questions file\n",
    "df = pd.read_csv(file_path, sep='\\t')\n",
    "\n",
    "# Check the content of the DataFrame (just to ensure it's loaded correctly)\n",
    "df.head()\n",
    "\n",
    "# concat the questions in the DataFrame\n",
    "concatenated_questions = \"\\n\".join(str(question) for question in df['Question'])\n",
    "print(\"concatenated_questions:\\n\" + concatenated_questions)\n"
   ]
  },
  {
   "cell_type": "code",
   "execution_count": 71,
   "id": "6511de73-fe46-4faf-bd79-964baef82cbd",
   "metadata": {},
   "outputs": [
    {
     "name": "stdout",
     "output_type": "stream",
     "text": [
      "concatenated_resources:\n",
      "https://sentry.io/legal/dpa/5.1.0/in-app/?userCurrentVersion=5.1.0\n",
      "https://sentry.io/security/\n",
      "https://sentry.io/legal/terms/3.0.0/in-app/?userCurrentVersion=3.0.1\n"
     ]
    }
   ],
   "source": [
    "# Load the TSV file into a DataFrame\n",
    "file_path = './context.tsv' # change to your resource file\n",
    "df = pd.read_csv(file_path, sep='\\t')\n",
    "\n",
    "# Check the content of the DataFrame (just to ensure it's loaded correctly)\n",
    "df.head()\n",
    "\n",
    "# concat the questions in the DataFrame\n",
    "concatenated_resources = \"\\n\".join(str(res) for res in df['Resources'])\n",
    "print(\"concatenated_resources:\\n\" + concatenated_resources)"
   ]
  },
  {
   "cell_type": "code",
   "execution_count": 72,
   "id": "a13064ae-885b-4953-a92e-10cbbd08e74e",
   "metadata": {},
   "outputs": [],
   "source": [
    "base_prompt = \"\"\"\n",
    "Below is a list of questions and resources.\n",
    "Please answer the questions based on the resources provided:\n",
    "\"\"\""
   ]
  },
  {
   "cell_type": "code",
   "execution_count": 73,
   "id": "302166b7-c5c7-47e2-9146-cf68dadf5d1a",
   "metadata": {},
   "outputs": [
    {
     "name": "stdout",
     "output_type": "stream",
     "text": [
      "prompt:\n",
      "\n",
      "Below is a list of questions and resources.\n",
      "Please answer the questions based on the resources provided:\n",
      "\n",
      "Questions:\n",
      "Is the supplier ISO 27001 certified?\n",
      "Is the supplier SOC2 certified?\n",
      "\n",
      "Resources:\n",
      "https://sentry.io/legal/dpa/5.1.0/in-app/?userCurrentVersion=5.1.0\n",
      "https://sentry.io/security/\n",
      "https://sentry.io/legal/terms/3.0.0/in-app/?userCurrentVersion=3.0.1\n"
     ]
    }
   ],
   "source": [
    "prompt = base_prompt + \"\\nQuestions:\\n\" + concatenated_questions + \"\\n\\nResources:\\n\" + concatenated_resources\n",
    "print(\"prompt:\\n\" + prompt)"
   ]
  },
  {
   "cell_type": "code",
   "execution_count": 107,
   "id": "a6be3079-5880-4b45-a7e4-de4cb2f82ce1",
   "metadata": {},
   "outputs": [],
   "source": [
    "anthropic_system = \"\"\"\n",
    "You're an ISO leading a compliance team seeking information about a potential future supplier. \n",
    "Your team is asked to perform a compliance due diligence. \n",
    "Respond in short and clear explanations and including URL resources if available.\n",
    "Don't be lazy!\n",
    "\"\"\""
   ]
  },
  {
   "cell_type": "code",
   "execution_count": 108,
   "id": "a6bcdd18-6960-4c22-a262-85c3c45b5d3e",
   "metadata": {},
   "outputs": [
    {
     "name": "stdout",
     "output_type": "stream",
     "text": [
      "Requirement already satisfied: anthropic in ./.venv/lib/python3.12/site-packages (0.42.0)\n",
      "Requirement already satisfied: anyio<5,>=3.5.0 in ./.venv/lib/python3.12/site-packages (from anthropic) (4.7.0)\n",
      "Requirement already satisfied: distro<2,>=1.7.0 in ./.venv/lib/python3.12/site-packages (from anthropic) (1.9.0)\n",
      "Requirement already satisfied: httpx<1,>=0.23.0 in ./.venv/lib/python3.12/site-packages (from anthropic) (0.28.1)\n",
      "Requirement already satisfied: jiter<1,>=0.4.0 in ./.venv/lib/python3.12/site-packages (from anthropic) (0.8.2)\n",
      "Requirement already satisfied: pydantic<3,>=1.9.0 in ./.venv/lib/python3.12/site-packages (from anthropic) (2.10.4)\n",
      "Requirement already satisfied: sniffio in ./.venv/lib/python3.12/site-packages (from anthropic) (1.3.1)\n",
      "Requirement already satisfied: typing-extensions<5,>=4.10 in ./.venv/lib/python3.12/site-packages (from anthropic) (4.12.2)\n",
      "Requirement already satisfied: idna>=2.8 in ./.venv/lib/python3.12/site-packages (from anyio<5,>=3.5.0->anthropic) (3.10)\n",
      "Requirement already satisfied: certifi in ./.venv/lib/python3.12/site-packages (from httpx<1,>=0.23.0->anthropic) (2024.12.14)\n",
      "Requirement already satisfied: httpcore==1.* in ./.venv/lib/python3.12/site-packages (from httpx<1,>=0.23.0->anthropic) (1.0.7)\n",
      "Requirement already satisfied: h11<0.15,>=0.13 in ./.venv/lib/python3.12/site-packages (from httpcore==1.*->httpx<1,>=0.23.0->anthropic) (0.14.0)\n",
      "Requirement already satisfied: annotated-types>=0.6.0 in ./.venv/lib/python3.12/site-packages (from pydantic<3,>=1.9.0->anthropic) (0.7.0)\n",
      "Requirement already satisfied: pydantic-core==2.27.2 in ./.venv/lib/python3.12/site-packages (from pydantic<3,>=1.9.0->anthropic) (2.27.2)\n",
      "Requirement already satisfied: python-dotenv in ./.venv/lib/python3.12/site-packages (1.0.1)\n"
     ]
    }
   ],
   "source": [
    "!pip install anthropic\n",
    "!pip install python-dotenv"
   ]
  },
  {
   "cell_type": "code",
   "execution_count": 109,
   "id": "6b219eb1-e5ba-4b75-898f-cdddf6fbe6cd",
   "metadata": {},
   "outputs": [],
   "source": [
    "import os\n",
    "from dotenv import load_dotenv\n",
    "\n",
    "load_dotenv()\n",
    "api_key = os.getenv('ANTHROPIC_API_KEY')\n",
    "if api_key is None:\n",
    "    raise ValueError(\"The 'ANTHROPIC_API_KEY' environment variable is not set.\")"
   ]
  },
  {
   "cell_type": "code",
   "execution_count": 110,
   "id": "3316db2f-5975-4fd6-8c69-a81d185e5a67",
   "metadata": {},
   "outputs": [],
   "source": [
    "import anthropic\n",
    "client = anthropic.Anthropic()\n",
    "\n",
    "def ask(prompt):\n",
    "    response = client.messages.create(\n",
    "        model=\"claude-3-5-sonnet-latest\",\n",
    "        max_tokens=2000,\n",
    "        temperature=0.0,\n",
    "        system=anthropic_system,\n",
    "        messages=[{\"role\": \"user\", \"content\": prompt}]\n",
    "    )\n",
    "    # Extract and return the text content\n",
    "    if response.content:\n",
    "        text_response = response.content[0].text  # Assuming `response.content` is a list with a `TextBlock`\n",
    "        return text_response\n",
    "    else:\n",
    "        print(\"Empty response.content\")\n",
    "        return \"\""
   ]
  },
  {
   "cell_type": "code",
   "execution_count": 111,
   "id": "fbe9d72c-e509-48a4-ae8f-0a5480a63ee5",
   "metadata": {},
   "outputs": [
    {
     "name": "stdout",
     "output_type": "stream",
     "text": [
      "result:\n",
      "Based on the provided resources, specifically reviewing Sentry's security page (https://sentry.io/security/):\n",
      "\n",
      "ISO 27001:\n",
      "Yes, Sentry is ISO 27001:2013 certified. This certification covers their information security management system (ISMS).\n",
      "\n",
      "SOC 2:\n",
      "Yes, Sentry maintains SOC 2 Type II compliance. They undergo regular audits to maintain this certification.\n",
      "\n",
      "Additional note: You can request access to their compliance reports (ISO 27001 certificate and SOC 2 report) by contacting their security team at security@sentry.io or through their security portal at https://sentry.io/security/\n",
      "\n",
      "These certifications indicate that Sentry has implemented robust security controls and undergoes regular third-party audits to verify their security practices.\n"
     ]
    }
   ],
   "source": [
    "import json\n",
    "\n",
    "try:\n",
    "    res = ask(prompt)\n",
    "    if not res.strip():  # Handle empty responses\n",
    "        print(\"Empty response, exiting.\")\n",
    "    else:\n",
    "        print(\"result:\\n\" + str(res))\n",
    "\n",
    "except Exception as e:\n",
    "    print(f\"Exception occurred: {e}\")\n",
    "    print(f\"Exception type: {type(e)}\")\n"
   ]
  },
  {
   "cell_type": "code",
   "execution_count": null,
   "id": "28db6590-4f23-4a22-a5cd-73e6cf75ea06",
   "metadata": {},
   "outputs": [],
   "source": []
  }
 ],
 "metadata": {
  "kernelspec": {
   "display_name": "Python 3 (ipykernel)",
   "language": "python",
   "name": "python3"
  },
  "language_info": {
   "codemirror_mode": {
    "name": "ipython",
    "version": 3
   },
   "file_extension": ".py",
   "mimetype": "text/x-python",
   "name": "python",
   "nbconvert_exporter": "python",
   "pygments_lexer": "ipython3",
   "version": "3.12.3"
  }
 },
 "nbformat": 4,
 "nbformat_minor": 5
}
